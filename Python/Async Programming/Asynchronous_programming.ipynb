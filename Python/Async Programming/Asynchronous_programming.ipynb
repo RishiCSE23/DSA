{
 "cells": [
  {
   "attachments": {},
   "cell_type": "markdown",
   "metadata": {},
   "source": [
    "# Understanding Async Programs \n",
    "\n",
    "* __Problem__: Cooking step by step waiting for each step to finish (_sync but slow process_)\n",
    "* __Solution 1__: Hire more people to work simultainusly (_costly_)\n",
    "* __Solution 2__: Interleave independent tasks i.e., perform another task while waiting for an independent task. (_Async_)\n",
    "\n",
    "Executing tasks asynchronously means _manage to perform multiple things at the same time not doing multiple things simultainusly_ (which is rather called concurrency or parallel processing); i.e., using a single cook efficiently than having multiple cook. \n",
    "* With async programming speed-up is only possible when there are \n",
    "    1. There are independent tasks (chopping salad while boiling water)\n",
    "    2. Tasks are less CPU intensive (can walk away while boiling water but not while chopping salad)\n",
    "* Async programming shines when the programming logic is IO bound not CPU bound. \n",
    "    | CPU Bound | I/O bound |\n",
    "    |---|---|\n",
    "    | Arithmetic operation | HTTP Req |\n",
    "    | Parsing | Database Access  |\n",
    "    | String manipulation | Persistant Connections |"
   ]
  },
  {
   "attachments": {},
   "cell_type": "markdown",
   "metadata": {},
   "source": [
    "## Event Loop\n",
    "\n",
    "* Event loop is the hart of async programming.  \n",
    "* It manages async tasks using a __Event Queue__.\n",
    "* There are multiple ways to hand tasks to the event loop. However Python 3.5+ supports __`async/await`__ keyword natively (best practice). Allows _writing async code that reads synchonously_.\n",
    "* __Syntax__\n",
    "    * __Typical function__:\n",
    "        ```\n",
    "        def func_1(val):\n",
    "            # do something \n",
    "            result = blocking_func() # cpu bound\n",
    "            return result\n",
    "\n",
    "        def func_2(val):\n",
    "            # do something \n",
    "            result = func1() # function chaining \n",
    "            return result\n",
    "        \n",
    "        ```\n",
    "    * __Async function__:\n",
    "        ```\n",
    "        async def func_1(val):\n",
    "            #do something \n",
    "            result = await non_blocking_func() # IO bound\n",
    "            return result\n",
    "\n",
    "        async def func_2(val):\n",
    "            #do something \n",
    "            result = await func_1() # async func can only chain async funcs\n",
    "            return result\n",
    "        ```"
   ]
  },
  {
   "attachments": {},
   "cell_type": "markdown",
   "metadata": {},
   "source": [
    "## Rule of async in Python \n",
    "\n",
    "1. __Async code does not run itself__\n",
    "    * __Example 1__: Async functions have to be handed over to the Event Loop to run. They can't be called like regular python functions. \n",
    "        ```\n",
    "        aysnc def func_1(args): # define async function\n",
    "            #something \n",
    "            await func_2()\n",
    "\n",
    "        func_1()  # warning: func_1 never awaited. \n",
    "        ```\n",
    "    * __Example 2__: The correct way, handing over the async function `func_1()` to an event loop offered by `asyncio`. This is not the only way but most preferred one. \n",
    "        ```\n",
    "        import asyncio  # provides event loop\n",
    "\n",
    "        aysnc def func_1(args): # define async function\n",
    "            #something \n",
    "            await func_2()\n",
    "\n",
    "        asyncio.run(func_1())  # handing over to the event loop. \n",
    "        ```\n",
    "2. __Only async code can be awaited__\n",
    "    * __Example__: A function can only `await` if it's defined as `async`.\n",
    "        ```\n",
    "        def func_1(args):\n",
    "            #something\n",
    "            await func2()   # error: await outside async function\n",
    "        ```\n",
    "3. __Awaiting a function does not magically make it async (the logic needs to be IO bound)__: In practice the callable APIs needs to be studied first, if it's a blockig API then find a non-blocking alternative (e.g., `aiohttp` in oppose to `request`). "
   ]
  },
  {
   "attachments": {},
   "cell_type": "markdown",
   "metadata": {},
   "source": [
    "## Python async toolbox"
   ]
  },
  {
   "attachments": {},
   "cell_type": "markdown",
   "metadata": {},
   "source": [
    "Lets start with a simple synchronous code. "
   ]
  },
  {
   "cell_type": "code",
   "execution_count": 4,
   "metadata": {},
   "outputs": [
    {
     "name": "stdout",
     "output_type": "stream",
     "text": [
      "[2023-03-03 02:52:43.361876]starting 3 sleep\n",
      "[2023-03-03 02:52:46.362953]finished 3 sleep\n",
      "[2023-03-03 02:52:46.364107]starting 6 sleep\n",
      "[2023-03-03 02:52:52.364655]finished 6 sleep\n",
      "[3, 6]\n",
      "\u001b[37m\u001b[44m\u001b[1mTime taken: 0:00:09.003383\u001b[0m\n"
     ]
    }
   ],
   "source": [
    "import time \n",
    "from datetime import datetime\n",
    "import click  # print with style (req pip install)\n",
    "\n",
    "def sleep_and_print(t): \n",
    "    \"\"\"\n",
    "    takes a time t in sec, sleeps for t and returns t. \n",
    "    \"\"\"\n",
    "    print(f'[{datetime.now()}]starting {t} sleep')\n",
    "    time.sleep(t)  # sleeping for t sec.\n",
    "    print(f'[{datetime.now()}]finished {t} sleep')\n",
    "    return t\n",
    "\n",
    "# caller \n",
    "start = datetime.now()\n",
    "print([sleep_and_print(3), sleep_and_print(6)]) # should take 3+6=9 sec\n",
    "click.secho(f'Time taken: {datetime.now()-start}',bold=True, bg='blue', fg='white')\n"
   ]
  },
  {
   "cell_type": "code",
   "execution_count": null,
   "metadata": {},
   "outputs": [],
   "source": [
    "## Dont Run this cell!! \n",
    "## Jupyter notebook can't run async codes \n",
    "## check program 2 in the directory \n",
    "\n",
    "import asyncio\n",
    "from datetime import datetime\n",
    "import click  # print with style (req pip install)\n",
    "\n",
    "async def sleep_and_print(t):  # define async function that can later await\n",
    "    \"\"\"\n",
    "    takes a time t in sec, sleeps for t asynchonously and returns t. \n",
    "    \"\"\"\n",
    "    print(f'starting {t} sleep')\n",
    "    asyncio.sleep(t)  # non-blocking alternative to time.sleep \n",
    "    print(f'finished {t} sleep')\n",
    "    return t\n",
    "\n",
    "async def caller():\n",
    "    result = await asyncio.gather(sleep_and_print(3), sleep_and_print(6)) # takes multiple co-routines and run them concurrently \n",
    "\n",
    "start = datetime.now()\n",
    "asyncio.run(caller()) # should take max(3,6)=6 sec\n",
    "click.secho(f'{datetime.now()-start}',bold=True, bg='blue', fg='white')"
   ]
  },
  {
   "cell_type": "code",
   "execution_count": null,
   "metadata": {},
   "outputs": [],
   "source": []
  }
 ],
 "metadata": {
  "kernelspec": {
   "display_name": "Python 3",
   "language": "python",
   "name": "python3"
  },
  "language_info": {
   "codemirror_mode": {
    "name": "ipython",
    "version": 3
   },
   "file_extension": ".py",
   "mimetype": "text/x-python",
   "name": "python",
   "nbconvert_exporter": "python",
   "pygments_lexer": "ipython3",
   "version": "3.11.2"
  },
  "orig_nbformat": 4,
  "vscode": {
   "interpreter": {
    "hash": "72063db0abb26634fd1f39f0261eb6f003432db65a807acda9e9495a6b300d20"
   }
  }
 },
 "nbformat": 4,
 "nbformat_minor": 2
}
