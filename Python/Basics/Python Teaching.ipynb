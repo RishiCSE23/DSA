{
 "cells": [
  {
   "cell_type": "markdown",
   "id": "200b1824",
   "metadata": {},
   "source": [
    "# 1. Introduction\n",
    "\n",
    "* __Python__: High level programming language \n",
    "    * __High Level__: This is closer in interpreating to the the programmer.\n",
    "    * __Programming Language__: Fomal way of a sequence of instructions to represent logical flow.\n",
    "        * Flow in graphical format: Flowchart\n",
    "        * Flow in a generic format: Algorithm \n",
    "        * Flow in a specific programming language: Program \n",
    "* Python is a _interpreted_ & partially _imparitive_ language\n",
    "    * __Compilation__: Read the whole code and convert it into machine code (C,C++, Java\\*, C#\\*).\n",
    "    * __Interpretation__: Read the code by every instrutions one-by-one while converting them into machine code (python, ruby). "
   ]
  },
  {
   "cell_type": "markdown",
   "id": "b69cd9e5",
   "metadata": {},
   "source": [
    "## 1.1. Variable\n",
    "\n",
    "* Variable is a container of data. \n",
    "* Each variable varies is size based on the data it keeps.\n",
    "* Every variable has a memory addresss on which it is kept in the computer memory. \n",
    "* Variable typing \n",
    "    * __Strongly/statically typed__: Variable's type must be specified before putting any data into it (C,C++, Java). \n",
    "    * __Weekly/Dynamicly typed__: Type of a variable is determined by the data put into it (Python, JavaScript). \n",
    "* Python is a dynamicly typed language\n",
    "* Variable nomenclature \n",
    "    * First char of a variable must be a character or an underscore(_) \n",
    "    * length of the variable name is limited to 128 char. "
   ]
  },
  {
   "cell_type": "code",
   "execution_count": 5,
   "id": "7216869c",
   "metadata": {},
   "outputs": [],
   "source": [
    "# variable example   <--- comment \n",
    "\n",
    "a=10   # assigning 10 into a \n",
    "b=None # declaring b as a empty variable "
   ]
  },
  {
   "cell_type": "code",
   "execution_count": 6,
   "id": "c5b2af6a",
   "metadata": {},
   "outputs": [
    {
     "data": {
      "text/plain": [
       "int"
      ]
     },
     "execution_count": 6,
     "metadata": {},
     "output_type": "execute_result"
    }
   ],
   "source": [
    "# testing type of a variable \n",
    "type(a)"
   ]
  },
  {
   "cell_type": "code",
   "execution_count": 7,
   "id": "8c07e6a3",
   "metadata": {},
   "outputs": [
    {
     "data": {
      "text/plain": [
       "NoneType"
      ]
     },
     "execution_count": 7,
     "metadata": {},
     "output_type": "execute_result"
    }
   ],
   "source": [
    "type(b)"
   ]
  },
  {
   "cell_type": "code",
   "execution_count": 8,
   "id": "9e19e6e6",
   "metadata": {},
   "outputs": [],
   "source": [
    "a=10.0"
   ]
  },
  {
   "cell_type": "code",
   "execution_count": 9,
   "id": "1528ec28",
   "metadata": {},
   "outputs": [
    {
     "data": {
      "text/plain": [
       "float"
      ]
     },
     "execution_count": 9,
     "metadata": {},
     "output_type": "execute_result"
    }
   ],
   "source": [
    "type(a)"
   ]
  },
  {
   "cell_type": "markdown",
   "id": "b335b6b1",
   "metadata": {},
   "source": [
    "### 1.1.1 Common datatypes"
   ]
  },
  {
   "cell_type": "code",
   "execution_count": 12,
   "id": "1d134563",
   "metadata": {},
   "outputs": [],
   "source": [
    "a = 10     # integer (whole number)\n",
    "b = 10.2   # floating-point (fraction number)\n",
    "c = \"abcd\" # string (character sequence)"
   ]
  },
  {
   "cell_type": "code",
   "execution_count": 13,
   "id": "aca59fda",
   "metadata": {},
   "outputs": [
    {
     "name": "stdout",
     "output_type": "stream",
     "text": [
      "<class 'int'>\n",
      "<class 'float'>\n",
      "<class 'str'>\n"
     ]
    }
   ],
   "source": [
    "print(type(a))\n",
    "print(type(b))\n",
    "print(type(c))"
   ]
  },
  {
   "cell_type": "code",
   "execution_count": 30,
   "id": "04aace00",
   "metadata": {},
   "outputs": [
    {
     "name": "stdout",
     "output_type": "stream",
     "text": [
      "hello world\n"
     ]
    }
   ],
   "source": [
    "# print example \n",
    "print('hello world')  # telling the program to print somethingon the screen "
   ]
  },
  {
   "cell_type": "code",
   "execution_count": 21,
   "id": "73f486ac",
   "metadata": {},
   "outputs": [
    {
     "name": "stdout",
     "output_type": "stream",
     "text": [
      "type of -10 is <class 'int'>.\n",
      "type of -10.2 is <class 'float'>.\n",
      "type of abcd is <class 'str'>.\n"
     ]
    }
   ],
   "source": [
    "# format string \n",
    "print(f'type of {a} is {type(a)}.')\n",
    "print(f'type of {b} is {type(b)}.')\n",
    "print(f'type of {c} is {type(c)}.')"
   ]
  },
  {
   "cell_type": "code",
   "execution_count": 26,
   "id": "80a591d4",
   "metadata": {},
   "outputs": [
    {
     "name": "stdout",
     "output_type": "stream",
     "text": [
      "I am a programmer...\n",
      "I'm a programmer...\n",
      "he said \"I am a programmer\"\n"
     ]
    }
   ],
   "source": [
    "# use of both \"\", '' in strings\n",
    "print('I am a programmer...')\n",
    "print(\"I'm a programmer...\")\n",
    "print('he said \"I am a programmer\"')"
   ]
  },
  {
   "cell_type": "markdown",
   "id": "1e577742",
   "metadata": {},
   "source": [
    "### 1.1.2. Python Specific Data types\n",
    "* None = Nothing \n",
    "* Boolean = True/False \n",
    "* Abstact data type (ADT): Data-structures, unlike variables they represent a collection \n",
    "    * List: `[1,2,3,3,12,1.6,'abc']`   is a mutable collection \n",
    "    * Tuple: `(1,2,3,3,12,1.6,'abc')`  is a immutable collection \n",
    "    * Set: `{1,2,3,12}`  is a mutable collection of unique \n",
    "    * Dictionary: `{'name':'Puja' , 'age':28}`  is key-value map "
   ]
  },
  {
   "cell_type": "code",
   "execution_count": 36,
   "id": "37bbfa91",
   "metadata": {},
   "outputs": [],
   "source": [
    "c = None  # nothing \n",
    "d = True  # or False  \n",
    "\n",
    "lst = [1,2,3,3,12,1.6,'abc']  # mutable collection where redundancy is allowed \n",
    "tup = (1,2,3,3,12,1.6,'abc')  # immutable collection where redundancy is allowed \n",
    "st = {1,2,3,3,12,1.6,'abc'}   # mutable collection where redundancy is NOT allowed \n",
    "stu_1 = {'name':'Puja Chatterjee', \n",
    "         'age':28, \n",
    "         'qualification':'PG', \n",
    "         'height':5.2,\n",
    "         'year_of_exp':5.2,\n",
    "         'unit':'cm'}"
   ]
  },
  {
   "cell_type": "code",
   "execution_count": 35,
   "id": "d3785900",
   "metadata": {},
   "outputs": [
    {
     "name": "stdout",
     "output_type": "stream",
     "text": [
      "type of [1, 2, 3, 3, 12, 1.6, 'abc'] is <class 'list'>\n",
      "type of (1, 2, 3, 3, 12, 1.6, 'abc') is <class 'tuple'>\n",
      "type of {1, 2, 3, 1.6, 'abc', 12} is <class 'set'>\n"
     ]
    }
   ],
   "source": [
    "print(f'type of {lst} is {type(lst)}')\n",
    "print(f'type of {tup} is {type(tup)}')\n",
    "print(f'type of {st} is {type(st)}')"
   ]
  },
  {
   "cell_type": "code",
   "execution_count": 38,
   "id": "eb70c85d",
   "metadata": {},
   "outputs": [
    {
     "name": "stdout",
     "output_type": "stream",
     "text": [
      "The student Puja Chatterjee is 5.2cm tall\n"
     ]
    }
   ],
   "source": [
    "name= stu_1['name']    # accessing the value of the stu_1 by the key 'name'  \n",
    "height=stu_1['height'] # stu_1's height\n",
    "unit=stu_1['unit']\n",
    "\n",
    "print(f'The student {name} is {height}{unit} tall')"
   ]
  },
  {
   "cell_type": "code",
   "execution_count": 40,
   "id": "aad541a8",
   "metadata": {},
   "outputs": [
    {
     "name": "stdout",
     "output_type": "stream",
     "text": [
      "The student Puja Chatterjee is 5.2cm tall\n"
     ]
    }
   ],
   "source": [
    "print(f\"The student {stu_1['name']} is {stu_1['height']}{stu_1['unit']} tall\")"
   ]
  },
  {
   "cell_type": "markdown",
   "id": "4d0e0894",
   "metadata": {},
   "source": [
    "## 1.2. Operators\n",
    "\n",
    "* Used for arithmatic and logial calculation \n",
    "* Arithmatic Operators\n",
    "    | Operator | Meaning | Syntax |\n",
    "    |---|---|---|\n",
    "    | =  | Assignemnt | `a=b`|\n",
    "    | +  | Addition | `a+b`|\n",
    "    | -  | Subtraction | `a-b`|\n",
    "    | *  | Multiplication | `a*b`|\n",
    "    | /  | Division | `a/b`|\n",
    "    | %  | Modulus  | `a%b`|\n",
    "    | **  | Exponent | `a**b`|\n",
    "    | //  | int division | `a//b`|\n",
    "    | +=  | add and assign | `a+=b => a = a+b`|\n",
    "* Logical Operators (output is boolean)\n",
    "    | Operator | Meaning | Syntax |\n",
    "    |---|---|---|\n",
    "    | <   | Less than | `a<b`|\n",
    "    | <=  | Less than or equals to | `a<=b`|\n",
    "    | >   | Greater than | `a>b`|\n",
    "    | >=  | Less than or equals to | `a>=b`|\n",
    "    | ==  | Equality | `a == b`|\n",
    "    | !=  | Inequality | `a != b`|\n",
    "    | and | if both are True  | `a and b`|\n",
    "    | or  | if eather of them are true  | `a or b`|\n",
    "    | not | negation  | `not a`|\n",
    "    | in  | membership check | `a in b`|\n",
    "* Bitwise operator\n",
    "    | Operator | Meaning | Syntax |\n",
    "    |---|---|---|\n",
    "    | &  | bitwise AND | `a&b`|\n",
    "    | |  | bitwise OR | `a|b`|\n",
    "    | ^  | bitwise XOR | `a&b`|\n",
    "    | ~  | bitwise NOT | `~a`|\n",
    "    | << | bitwise LEFT SHIFT | `~a`|\n",
    "    | >> | bitwise LEFT SHIFT | `~a`|"
   ]
  },
  {
   "cell_type": "code",
   "execution_count": 49,
   "id": "d926ec67",
   "metadata": {},
   "outputs": [
    {
     "name": "stdout",
     "output_type": "stream",
     "text": [
      "11\n",
      "\n",
      "LOAD A,5  # LOAD A = opcode (what to do?) , 5 = operand (on what to do?) \n",
      "LOAD B,6\n",
      "ADD A,B\n",
      "STO C\n",
      "\n"
     ]
    }
   ],
   "source": [
    "C=5+6   # high level (5+6)\n",
    "print(C)\n",
    "\n",
    "print(\n",
    "\"\"\"\n",
    "LOAD A,5  # LOAD A = opcode (what to do?) , 5 = operand (on what to do?) \n",
    "LOAD B,6\n",
    "ADD A,B\n",
    "STO C\n",
    "\"\"\")"
   ]
  },
  {
   "cell_type": "code",
   "execution_count": 58,
   "id": "97fe34ab",
   "metadata": {},
   "outputs": [
    {
     "name": "stdout",
     "output_type": "stream",
     "text": [
      "10+6=16\n",
      "10-6=4\n",
      "10*6=60\n",
      "10/6=1.6666666666666667\n",
      "10//6=1\n",
      "10**6=1000000\n",
      "10%6=4\n",
      "16\n"
     ]
    }
   ],
   "source": [
    "# Arithmatic\n",
    "a=10\n",
    "b=6\n",
    "\n",
    "print(f'{a}+{b}={a+b}')\n",
    "print(f'{a}-{b}={a-b}')\n",
    "print(f'{a}*{b}={a*b}')\n",
    "print(f'{a}/{b}={a/b}')\n",
    "print(f'{a}//{b}={a//b}')\n",
    "print(f'{a}**{b}={a**b}')\n",
    "print(f'{a}%{b}={a%b}')\n",
    "a+=b\n",
    "print(a)"
   ]
  },
  {
   "cell_type": "markdown",
   "id": "59619294",
   "metadata": {},
   "source": [
    "### 2.1.1. Truth value evaluation\n",
    "\n",
    "* Any non-zero number is True\n",
    "* 0 is False\n",
    "* None is False\n",
    "* Empty String is False\n",
    "* Non-empty string is true \n",
    "* Any empty ADT is False\n",
    "* Any non-empty ADT is True \n",
    "\n",
    "```\n",
    "y=bool(x)\n",
    "print(y)\n",
    "```"
   ]
  },
  {
   "cell_type": "code",
   "execution_count": 64,
   "id": "5197f8de",
   "metadata": {},
   "outputs": [
    {
     "name": "stdout",
     "output_type": "stream",
     "text": [
      "True\n",
      "True\n",
      "False\n",
      "False\n",
      "False\n",
      "False\n",
      "False\n",
      "False\n",
      "True\n",
      "True\n",
      "True\n",
      "True\n"
     ]
    }
   ],
   "source": [
    "# Logical\n",
    "print(bool(3))  # true\n",
    "print(bool(-2)) # true\n",
    "print(bool(0))  # false\n",
    "print(bool(None)) # false\n",
    "print(bool('')) #false\n",
    "print(bool( [] ))\n",
    "print(bool( () ))\n",
    "print(bool( {} ))\n",
    "print(bool('a')) #true\n",
    "print(bool( [1] ))\n",
    "print(bool( (1) ))\n",
    "print(bool( {1} ))"
   ]
  },
  {
   "cell_type": "code",
   "execution_count": 77,
   "id": "6f97a835",
   "metadata": {},
   "outputs": [],
   "source": [
    "a=5\n",
    "b=6\n",
    "c=[]"
   ]
  },
  {
   "cell_type": "code",
   "execution_count": 67,
   "id": "c1cd66a3",
   "metadata": {},
   "outputs": [
    {
     "data": {
      "text/plain": [
       "True"
      ]
     },
     "execution_count": 67,
     "metadata": {},
     "output_type": "execute_result"
    }
   ],
   "source": [
    "a<b  # is a less than b?"
   ]
  },
  {
   "cell_type": "code",
   "execution_count": 68,
   "id": "a2201bc7",
   "metadata": {},
   "outputs": [
    {
     "data": {
      "text/plain": [
       "True"
      ]
     },
     "execution_count": 68,
     "metadata": {},
     "output_type": "execute_result"
    }
   ],
   "source": [
    "a <= b "
   ]
  },
  {
   "cell_type": "code",
   "execution_count": 69,
   "id": "ca3f537e",
   "metadata": {},
   "outputs": [
    {
     "data": {
      "text/plain": [
       "True"
      ]
     },
     "execution_count": 69,
     "metadata": {},
     "output_type": "execute_result"
    }
   ],
   "source": [
    "a <= a"
   ]
  },
  {
   "cell_type": "code",
   "execution_count": 70,
   "id": "519d1f98",
   "metadata": {},
   "outputs": [
    {
     "data": {
      "text/plain": [
       "False"
      ]
     },
     "execution_count": 70,
     "metadata": {},
     "output_type": "execute_result"
    }
   ],
   "source": [
    "a < a"
   ]
  },
  {
   "cell_type": "code",
   "execution_count": 71,
   "id": "c0e65cab",
   "metadata": {},
   "outputs": [
    {
     "data": {
      "text/plain": [
       "False"
      ]
     },
     "execution_count": 71,
     "metadata": {},
     "output_type": "execute_result"
    }
   ],
   "source": [
    "a > b"
   ]
  },
  {
   "cell_type": "code",
   "execution_count": 72,
   "id": "5373c730",
   "metadata": {},
   "outputs": [
    {
     "data": {
      "text/plain": [
       "False"
      ]
     },
     "execution_count": 72,
     "metadata": {},
     "output_type": "execute_result"
    }
   ],
   "source": [
    "a >= b"
   ]
  },
  {
   "cell_type": "code",
   "execution_count": 73,
   "id": "0c9152cf",
   "metadata": {},
   "outputs": [
    {
     "data": {
      "text/plain": [
       "False"
      ]
     },
     "execution_count": 73,
     "metadata": {},
     "output_type": "execute_result"
    }
   ],
   "source": [
    "a == b  "
   ]
  },
  {
   "cell_type": "code",
   "execution_count": 74,
   "id": "1c23f11f",
   "metadata": {},
   "outputs": [
    {
     "data": {
      "text/plain": [
       "True"
      ]
     },
     "execution_count": 74,
     "metadata": {},
     "output_type": "execute_result"
    }
   ],
   "source": [
    "a != b   # is a not equals to b?"
   ]
  },
  {
   "cell_type": "code",
   "execution_count": 76,
   "id": "c4935ef0",
   "metadata": {},
   "outputs": [
    {
     "data": {
      "text/plain": [
       "True"
      ]
     },
     "execution_count": 76,
     "metadata": {},
     "output_type": "execute_result"
    }
   ],
   "source": [
    "bool(a and b)"
   ]
  },
  {
   "cell_type": "code",
   "execution_count": 79,
   "id": "5382b2b5",
   "metadata": {},
   "outputs": [
    {
     "data": {
      "text/plain": [
       "False"
      ]
     },
     "execution_count": 79,
     "metadata": {},
     "output_type": "execute_result"
    }
   ],
   "source": [
    "bool(a and c)"
   ]
  },
  {
   "cell_type": "code",
   "execution_count": 81,
   "id": "c98122e2",
   "metadata": {},
   "outputs": [
    {
     "data": {
      "text/plain": [
       "False"
      ]
     },
     "execution_count": 81,
     "metadata": {},
     "output_type": "execute_result"
    }
   ],
   "source": [
    "bool(a or c)"
   ]
  },
  {
   "cell_type": "code",
   "execution_count": 82,
   "id": "b578944c",
   "metadata": {},
   "outputs": [
    {
     "data": {
      "text/plain": [
       "True"
      ]
     },
     "execution_count": 82,
     "metadata": {},
     "output_type": "execute_result"
    }
   ],
   "source": [
    "bool(not c)"
   ]
  },
  {
   "cell_type": "markdown",
   "id": "aaa189b6",
   "metadata": {},
   "source": [
    "Membership means: $x\\in L$"
   ]
  },
  {
   "cell_type": "code",
   "execution_count": 84,
   "id": "da5e524d",
   "metadata": {},
   "outputs": [
    {
     "data": {
      "text/plain": [
       "True"
      ]
     },
     "execution_count": 84,
     "metadata": {},
     "output_type": "execute_result"
    }
   ],
   "source": [
    "lst1=[1,2,3,4]\n",
    "x=2\n",
    "y=6\n",
    "x in lst1"
   ]
  },
  {
   "cell_type": "code",
   "execution_count": 85,
   "id": "d3bd6c0e",
   "metadata": {},
   "outputs": [
    {
     "data": {
      "text/plain": [
       "True"
      ]
     },
     "execution_count": 85,
     "metadata": {},
     "output_type": "execute_result"
    }
   ],
   "source": [
    "y not in lst1"
   ]
  },
  {
   "cell_type": "markdown",
   "id": "7913be7e",
   "metadata": {},
   "source": [
    "```\n",
    "\t      8421 \t\n",
    "a=13   :  1101        \n",
    "b=6    :  0110\n",
    "-------------------\n",
    "a&b    :  0100 (4)\n",
    "a|b    :  1111 (15)\n",
    "a^b    :  1011 (11)\n",
    "a<<2   :  110100 (52)\n",
    "a>>2   :  11 (3)\n",
    "\n",
    "\n",
    "\t\t\t    531 = 5*2^2+ 3*2^1+ 1*2^0\n",
    "\n",
    "                    5  4  3  2  1  0 <-- i\n",
    "\t\t            32 16 8  4  2  1 <-- 2^i\n",
    "                    ----------------\n",
    "                          0  1  0  0\n",
    "      \n",
    " a b a&b a|b a^b\n",
    " 0 0  0   0   0\n",
    " 0 1  0   1   1 \n",
    " 1 0  0   1   1\n",
    " 1 1  1   1   0\n",
    "\n",
    "\n",
    "a=13 = 1101\n",
    "   \n",
    "a<<1 = 16 8 4 2 1\n",
    "       1  1 0 1 0 = 16+8+2 = 26 \n",
    "\n",
    "       8421 \n",
    "a>>1 = 0110\n",
    "       4+2 = 6  = 13//2 \n",
    "\n",
    "13<<1 = 13*2^1 = 13 * 2\n",
    "13<<2 = 13*2^2 = 13 * 4\n",
    "\n",
    "\n",
    "a<<n == a*(2**n)\n",
    "a>>n == a//(2**n)\n",
    "```"
   ]
  },
  {
   "cell_type": "code",
   "execution_count": 90,
   "id": "e94437b8",
   "metadata": {},
   "outputs": [
    {
     "name": "stdout",
     "output_type": "stream",
     "text": [
      "4\n",
      "15\n",
      "11\n",
      "52\n",
      "3\n"
     ]
    }
   ],
   "source": [
    "# bitwise \n",
    "a=13\n",
    "b=6\n",
    "print(a&b)\n",
    "print(a|b)\n",
    "print(a^b)\n",
    "print(a<<2)\n",
    "print(a>>2)"
   ]
  },
  {
   "cell_type": "code",
   "execution_count": null,
   "id": "7ff47b5a",
   "metadata": {},
   "outputs": [],
   "source": []
  }
 ],
 "metadata": {
  "kernelspec": {
   "display_name": "Python 3 (ipykernel)",
   "language": "python",
   "name": "python3"
  },
  "language_info": {
   "codemirror_mode": {
    "name": "ipython",
    "version": 3
   },
   "file_extension": ".py",
   "mimetype": "text/x-python",
   "name": "python",
   "nbconvert_exporter": "python",
   "pygments_lexer": "ipython3",
   "version": "3.9.13"
  }
 },
 "nbformat": 4,
 "nbformat_minor": 5
}
