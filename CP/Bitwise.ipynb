{
 "cells": [
  {
   "cell_type": "markdown",
   "metadata": {},
   "source": [
    "# Bitwise Operators "
   ]
  },
  {
   "cell_type": "code",
   "execution_count": 4,
   "metadata": {},
   "outputs": [
    {
     "name": "stdout",
     "output_type": "stream",
     "text": [
      "20(0x14) OR 13(0xd) = 29 (0x1d)\n",
      "20(0x14) AND 13(0xd) = 4 (0x4)\n",
      "20(0x14) XOR 13(0xd) = 25 (0x19)\n",
      "20(0x14) << 3 = 160 (0xa0)\n"
     ]
    }
   ],
   "source": [
    "a=20\n",
    "b=13\n",
    "i = 3\n",
    "j = 2\n",
    "\n",
    "print(f'{a}({hex(a)}) OR {b}({hex(b)}) = {a | b} ({hex(a | b)})')   # and \n",
    "print(f'{a}({hex(a)}) AND {b}({hex(b)}) = {a & b} ({hex(a & b)})')  # or \n",
    "print(f'{a}({hex(a)}) XOR {b}({hex(b)}) = {a ^ b} ({hex(a ^ b)})')  # xor\n",
    "print(f'{a}({hex(a)}) << {i} = {a << i} ({hex(a << i)})')\n",
    "print(f'{a}({hex(a)}) << {i} = {a << i} ({hex(a << i)})')\n"
   ]
  },
  {
   "attachments": {},
   "cell_type": "markdown",
   "metadata": {},
   "source": [
    "## Odd even \n",
    "\n",
    "Given a number, check if it is odd or even "
   ]
  },
  {
   "cell_type": "markdown",
   "metadata": {},
   "source": [
    "### Solution 1: Using arithmatic operator "
   ]
  },
  {
   "cell_type": "code",
   "execution_count": 9,
   "metadata": {},
   "outputs": [],
   "source": [
    "def odd_even_1(x:int) -> str:   # using arithmaric operator\n",
    "    return \"odd\" if x%2 else \"even\""
   ]
  },
  {
   "cell_type": "code",
   "execution_count": 6,
   "metadata": {},
   "outputs": [
    {
     "data": {
      "text/plain": [
       "'even'"
      ]
     },
     "execution_count": 6,
     "metadata": {},
     "output_type": "execute_result"
    }
   ],
   "source": [
    "odd_even_1(x=10)"
   ]
  },
  {
   "cell_type": "code",
   "execution_count": 7,
   "metadata": {},
   "outputs": [
    {
     "data": {
      "text/plain": [
       "'odd'"
      ]
     },
     "execution_count": 7,
     "metadata": {},
     "output_type": "execute_result"
    }
   ],
   "source": [
    "odd_even_1(x=13)"
   ]
  },
  {
   "attachments": {},
   "cell_type": "markdown",
   "metadata": {},
   "source": [
    "### Solution 2: Using bitwise operator "
   ]
  },
  {
   "cell_type": "code",
   "execution_count": 11,
   "metadata": {},
   "outputs": [],
   "source": [
    "def odd_even_2(x:int) -> str:   # using arithmaric operator\n",
    "    return \"odd\" if x&1 else \"even\"  # x&1 returns the LSB of x"
   ]
  },
  {
   "cell_type": "code",
   "execution_count": 12,
   "metadata": {},
   "outputs": [
    {
     "data": {
      "text/plain": [
       "'even'"
      ]
     },
     "execution_count": 12,
     "metadata": {},
     "output_type": "execute_result"
    }
   ],
   "source": [
    "odd_even_2(x=10)"
   ]
  },
  {
   "cell_type": "code",
   "execution_count": 13,
   "metadata": {},
   "outputs": [
    {
     "data": {
      "text/plain": [
       "'odd'"
      ]
     },
     "execution_count": 13,
     "metadata": {},
     "output_type": "execute_result"
    }
   ],
   "source": [
    "odd_even_2(x=13)"
   ]
  },
  {
   "attachments": {},
   "cell_type": "markdown",
   "metadata": {},
   "source": [
    "# Bit Manipulation \n",
    "\n",
    "* __Get ith bit__: Returns the ith bit of a number \n",
    "* __Set ith bit__: Set the ith bit of a number to 1\n",
    "* __Clear ith bit__: Clear the ith bit of a number to 0\n",
    "* __Update ith bit__: Reset the ith bit of a number to 1 or 0. "
   ]
  },
  {
   "cell_type": "markdown",
   "metadata": {},
   "source": []
  }
 ],
 "metadata": {
  "kernelspec": {
   "display_name": "Python 3",
   "language": "python",
   "name": "python3"
  },
  "language_info": {
   "codemirror_mode": {
    "name": "ipython",
    "version": 3
   },
   "file_extension": ".py",
   "mimetype": "text/x-python",
   "name": "python",
   "nbconvert_exporter": "python",
   "pygments_lexer": "ipython3",
   "version": "3.11.2"
  },
  "orig_nbformat": 4,
  "vscode": {
   "interpreter": {
    "hash": "72063db0abb26634fd1f39f0261eb6f003432db65a807acda9e9495a6b300d20"
   }
  }
 },
 "nbformat": 4,
 "nbformat_minor": 2
}
