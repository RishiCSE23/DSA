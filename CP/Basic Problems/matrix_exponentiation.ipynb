{
 "cells": [
  {
   "attachments": {},
   "cell_type": "markdown",
   "metadata": {},
   "source": [
    "# Binary Exponeniation \n",
    "\n",
    "* $a^b = a \\times a \\times ... \\times a$ for $b$ times that results in $O(b)$ time.\n",
    "* Binary exponentiation minimises the complexity of expoenet calculation to $O(\\log b)$ time. \n",
    "* $a^{13} = a^{8+4+1} = a^{2^3 + 2^2 + 2^0} = a^{2^3} + a^{2^2} + a^{2^0}$\n",
    "\n",
    "| $A=a$ | $B=13$ | $b_0$ | Result=1 |\n",
    "|--|--|--|--|\n",
    "| $a$ | 1101 | 1 | $1 \\times a = a$ | \n",
    "| $a^2$ | 110 | 0 | $a$ | \n",
    "| $a^4$ | 11 | 1 | $a \\times a^4 = a^5$ |\n",
    "| $a^8$ | 1 | 1 | $a^5 \\times a^8 = a^{13}$ |\n",
    "| $a^{16}$ | 0 |  | |\n",
    " \n"
   ]
  },
  {
   "cell_type": "code",
   "execution_count": 96,
   "metadata": {},
   "outputs": [],
   "source": [
    "def power(a,b):\n",
    "    result=1\n",
    "    while b: #until b==0\n",
    "        print(f'a={a}, b={b}, b&1={b&1}, result={result}')\n",
    "        if b&1:         \n",
    "            result*=a   # if lsb is set then update result \n",
    "        a*=a     # update a=a^2\n",
    "        b=b>>1   # updare b by RShift \n",
    "    return result"
   ]
  },
  {
   "cell_type": "code",
   "execution_count": 97,
   "metadata": {},
   "outputs": [
    {
     "name": "stdout",
     "output_type": "stream",
     "text": [
      "a=5, b=23, b&1=1, result=1\n",
      "a=25, b=11, b&1=1, result=5\n",
      "a=625, b=5, b&1=1, result=125\n",
      "a=390625, b=2, b&1=0, result=78125\n",
      "a=152587890625, b=1, b&1=1, result=78125\n"
     ]
    },
    {
     "data": {
      "text/plain": [
       "11920928955078125"
      ]
     },
     "execution_count": 97,
     "metadata": {},
     "output_type": "execute_result"
    }
   ],
   "source": [
    "power(5,23)"
   ]
  },
  {
   "attachments": {},
   "cell_type": "markdown",
   "metadata": {},
   "source": [
    "# Modular Exponentiation\n",
    "* Exponents grows exponentially, therefore sometimes they are limited with a mod values as $a^b(\\mod p)$\n",
    "* A common modulo prime $p = 10^9+7$\n",
    "* $a^{13}(\\mod p) = a^{8+4+1}(\\mod p) = (a^8 \\times a^4 \\times a^1)(\\mod p) = \\bigg(a^8(\\mod p) \\times a^4(\\mod p) \\times a^1(\\mod p)\\bigg)(\\mod p)$\n",
    "\n",
    "The following code implements this above logic to calulate modular exponents."
   ]
  },
  {
   "cell_type": "code",
   "execution_count": 98,
   "metadata": {},
   "outputs": [],
   "source": [
    "def pow_mod(a:int, b:int, p:int) -> int:\n",
    "    result = 1\n",
    "    while b:\n",
    "        if b&1:\n",
    "            result = (result*a)%p\n",
    "        a=(a*a)%p\n",
    "        b=b>>1\n",
    "    return result"
   ]
  },
  {
   "cell_type": "code",
   "execution_count": 99,
   "metadata": {},
   "outputs": [
    {
     "data": {
      "text/plain": [
       "757598885"
      ]
     },
     "execution_count": 99,
     "metadata": {},
     "output_type": "execute_result"
    }
   ],
   "source": [
    "pow_mod(a=105,b=10**15,p=10**9+7)"
   ]
  },
  {
   "attachments": {},
   "cell_type": "markdown",
   "metadata": {},
   "source": [
    "# Fast Multiplication\n",
    "\n",
    "* $a \\times b = a+a+ ... + a$ for $b$ times\n",
    "* $a\\times 17 = a \\times (2^4+2^0) = 2^4a + a$\n",
    "\n",
    "| $A=a$ | $B=17$ | $b_0$ | Result=0 |\n",
    "|--|--|--|--|\n",
    "| $a$ | 10001 | 1 | $0 + a = a$ | \n",
    "| $2a$ | 1000 | 0 | $a$ | \n",
    "| $4a$ | 100 | 0 | $a$ |\n",
    "| $8a$ | 10 | 0 | $a$ |\n",
    "| $16a$ | 1 | 1 | $a + 16a = 17a$|\n",
    "| $32a$ | 0 |  | |"
   ]
  },
  {
   "cell_type": "code",
   "execution_count": 100,
   "metadata": {},
   "outputs": [],
   "source": [
    "def multiply(a,b):\n",
    "    result=0  # additive identity \n",
    "    while b:\n",
    "        if b&1:\n",
    "            result+=a\n",
    "        a=a<<1   # a=2a\n",
    "        b=b>>1   # Rshift n\n",
    "    return result "
   ]
  },
  {
   "cell_type": "code",
   "execution_count": 101,
   "metadata": {},
   "outputs": [
    {
     "data": {
      "text/plain": [
       "1200"
      ]
     },
     "execution_count": 101,
     "metadata": {},
     "output_type": "execute_result"
    }
   ],
   "source": [
    "multiply(10,120)"
   ]
  },
  {
   "attachments": {},
   "cell_type": "markdown",
   "metadata": {},
   "source": [
    "# Matrix Exponentiation\n",
    "\n",
    "* n-th fibonacci number $f_n=f_{n-1}+f_{n-2}, f_1=f_2=1$.\n",
    "* The primitive recursive solution has $O(2^n)$ time complexity.\n",
    "* DP solution: `f[i]=f[i-1]+f[i-2]` has $O(n)$ time complexity.\n",
    "* However, for $n \\leq 10^18$, a loop can't be written in most of the languages.\n",
    "\n",
    "Matrix multiplication based solution\n",
    "* Let $F_n = \\begin{bmatrix} f_n \\\\ f_{n-1} \\end{bmatrix}$ and $T$ be a matrix, such that, $T\\times F_n = F_{n+1} = \\begin{bmatrix} f_{n+1} \\\\ f_{n} \\end{bmatrix} = \\begin{bmatrix} f_n + f_{n-1} \\\\ f_{n} \\end{bmatrix} \\implies T=\\begin{bmatrix} 1 & 1 \\\\ 1 & 0 \\end{bmatrix}$\n",
    "* Now consider the following recurrance \n",
    "    * $T \\times F_2 = F_3$\n",
    "    * $T \\times F_3 = F_4 = T^2 \\times F_2$\n",
    "    * $T \\times F_4 = F_5 = T^3 \\times F_2$\n",
    "* Therefore, $F_n = T^{n-2} \\times F_2 = \\begin{bmatrix} 1 & 1 \\\\ 1 & 0 \\end{bmatrix}^{n-2} \\times \\begin{bmatrix} 1 \\\\ 1 \\end{bmatrix}$\n",
    "* Thus, the n-th fibonacci number is the first value of the $F_n$ vector. \n",
    "* Apply binary exponentiation on the matrix multiplication which will calulate $T^{n-2}$ in $\\log n$ time. \n"
   ]
  },
  {
   "cell_type": "code",
   "execution_count": 117,
   "metadata": {},
   "outputs": [],
   "source": [
    "def matmul(A, B): \n",
    "    r1=len(A); c1=len(A[0])\n",
    "    r2=len(B); c2=len(B[0])\n",
    "    \n",
    "    if c1 != r2:\n",
    "        return None   # incompatible matrices \n",
    "    else:\n",
    "        C=[[0]*c1 for _ in  range(r1)]   # don't use C=[[0]*c2]*r1 it doesn't work, C[0][0]=10 will result [[10,0][10,0]] \n",
    "        for i in range(r1):\n",
    "            for j in range(c2):\n",
    "                for k in range(c1):\n",
    "                    C[i][j] += A[i][k] * B[k][j]\n",
    "    return C"
   ]
  },
  {
   "attachments": {},
   "cell_type": "markdown",
   "metadata": {},
   "source": [
    "Test..."
   ]
  },
  {
   "cell_type": "code",
   "execution_count": 118,
   "metadata": {},
   "outputs": [
    {
     "data": {
      "text/plain": [
       "[[1, 2], [3, 4]]"
      ]
     },
     "execution_count": 118,
     "metadata": {},
     "output_type": "execute_result"
    }
   ],
   "source": [
    "A=[[1,2],\n",
    "   [3,4]]\n",
    "B=[[1,0],\n",
    "   [0,1]]\n",
    "matmul(A,B)"
   ]
  },
  {
   "cell_type": "code",
   "execution_count": 127,
   "metadata": {},
   "outputs": [
    {
     "data": {
      "text/plain": [
       "[[14, 0], [32, 0]]"
      ]
     },
     "execution_count": 127,
     "metadata": {},
     "output_type": "execute_result"
    }
   ],
   "source": [
    "matmul([[1,2],[3,4]],[[4],[5]])"
   ]
  },
  {
   "cell_type": "code",
   "execution_count": 137,
   "metadata": {},
   "outputs": [],
   "source": [
    "import numpy as np\n",
    "\n",
    "def fibo(n):\n",
    "    if n==0 or n==1:\n",
    "        return 1\n",
    "    else:\n",
    "        F2 = [[1],[1]]      # base \n",
    "        T = [[1,1],[1,0]]   # coefficient\n",
    "        I = [[1,0],[0,1]]   # identity \n",
    "\n",
    "        n-=2  # exponent\n",
    "        while n:\n",
    "            if n&1:\n",
    "                I = np.matmul(T,I)\n",
    "            T = np.matmul(T,T)\n",
    "            n=n>>1\n",
    "        \n",
    "        return np.matmul(I,F2).tolist()[0][0]"
   ]
  },
  {
   "cell_type": "code",
   "execution_count": 138,
   "metadata": {},
   "outputs": [
    {
     "name": "stdout",
     "output_type": "stream",
     "text": [
      "i=0, f_0 = 1\n",
      "i=1, f_1 = 1\n",
      "i=2, f_2 = 1\n",
      "i=3, f_3 = 2\n",
      "i=4, f_4 = 3\n",
      "i=5, f_5 = 5\n",
      "i=6, f_6 = 8\n",
      "i=7, f_7 = 13\n",
      "i=8, f_8 = 21\n",
      "i=9, f_9 = 34\n"
     ]
    }
   ],
   "source": [
    "for i in range(10):\n",
    "    print(f'i={i}, f_{i} = {fibo(i)}')"
   ]
  },
  {
   "cell_type": "markdown",
   "metadata": {},
   "source": [
    "# Examples "
   ]
  },
  {
   "attachments": {},
   "cell_type": "markdown",
   "metadata": {},
   "source": [
    "## Fibosum \n",
    "\n",
    "* __Problem__: Given two integers $m,n \\ge 0$, return the sum of fibinacci numbers from $f_m$ to $f_n$  \n",
    "* __Solution__: \n",
    "    * we know, $f_n = f_{n-1} + f_{n-2}$ thus the following recurrance holds.\n",
    "        * $f_{n-2} = f_n - f_{n-1}$  ... eq(1)\n",
    "        * $f_{n-3} = f_{n-1} - f_{n-2}$\n",
    "        * $f_{n-4} = f_{n-2} - f_{n-3}$\n",
    "        * ...\n",
    "        * $f_{0} = f_{2} - f_{1}$ ... putting $n=2$ in eq(1)\n",
    "    * Therefore, $S_{n-2}=\\sum_{i=0}^{n-2}f_i=f_n - f_1$ (By adding the LHS and RHS from the above recurrance)\n",
    "    * $S_{n-2}=f_n - 1 \\implies S_n = f_{n+2} - 1$\n",
    "    * $S_n - S_m = \\bigg(f_{n+2}-1\\bigg)-\\bigg(f_{m+2}-1\\bigg) = f_{n+2} - f_{m+2}$"
   ]
  },
  {
   "cell_type": "markdown",
   "metadata": {},
   "source": []
  }
 ],
 "metadata": {
  "kernelspec": {
   "display_name": "Python 3",
   "language": "python",
   "name": "python3"
  },
  "language_info": {
   "codemirror_mode": {
    "name": "ipython",
    "version": 3
   },
   "file_extension": ".py",
   "mimetype": "text/x-python",
   "name": "python",
   "nbconvert_exporter": "python",
   "pygments_lexer": "ipython3",
   "version": "3.11.2"
  },
  "orig_nbformat": 4,
  "vscode": {
   "interpreter": {
    "hash": "72063db0abb26634fd1f39f0261eb6f003432db65a807acda9e9495a6b300d20"
   }
  }
 },
 "nbformat": 4,
 "nbformat_minor": 2
}
